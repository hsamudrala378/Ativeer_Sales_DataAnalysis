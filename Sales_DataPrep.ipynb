{
 "cells": [
  {
   "cell_type": "code",
   "execution_count": 1,
   "id": "34ec099b-fce7-4f22-9327-cb168f5d746f",
   "metadata": {},
   "outputs": [],
   "source": [
    "import pandas as pd"
   ]
  },
  {
   "cell_type": "code",
   "execution_count": 4,
   "id": "fbdf9f55-7413-4c0b-879a-dc555361b77a",
   "metadata": {},
   "outputs": [],
   "source": [
    "df = pd.read_excel(\"C:/Users/Harshitha/Documents/New folder/BB83B7CB-E41C-4724-9F3B-FA8917F2B260.xlsx\", sheet_name=\"Sheet1\", header=1)\n"
   ]
  },
  {
   "cell_type": "code",
   "execution_count": 5,
   "id": "55565801-f85e-46f6-9673-1fb91555d7ca",
   "metadata": {},
   "outputs": [],
   "source": [
    "base_cols = ['State', 'Product Category', 'Sales Channel', 'Month']\n"
   ]
  },
  {
   "cell_type": "code",
   "execution_count": 6,
   "id": "c89f989e-ebdf-45ee-afb0-9aaa6dd551e1",
   "metadata": {},
   "outputs": [],
   "source": [
    "years = ['2020', '2021', '2022']"
   ]
  },
  {
   "cell_type": "code",
   "execution_count": 7,
   "id": "017d2ee5-69a7-43df-a73d-5461ee9600b4",
   "metadata": {},
   "outputs": [],
   "source": [
    "suffixes = ['', '.1', '.2']"
   ]
  },
  {
   "cell_type": "code",
   "execution_count": 8,
   "id": "e4069dc8-a9c2-4bcf-ac75-8477bfaf8cec",
   "metadata": {},
   "outputs": [],
   "source": [
    "all_years_df = []"
   ]
  },
  {
   "cell_type": "code",
   "execution_count": 9,
   "id": "5a02d7cd-1681-4e87-ab86-56aecb45e035",
   "metadata": {},
   "outputs": [],
   "source": [
    "for year, suffix in zip(years, suffixes):\n",
    "    temp_df = df[base_cols].copy()\n",
    "    temp_df['Year'] = year\n",
    "    temp_df['Quantity Sold'] = df[f'Quantity Sold{suffix}']\n",
    "    temp_df['Unit Price'] = df[f'Unit Price{suffix}']\n",
    "    temp_df['Revenue'] = df[f'Revenue{suffix}']\n",
    "    temp_df['Expense'] = df[f'Expense{suffix}']\n",
    "    temp_df['Profit'] = df[f'Profit{suffix}']\n",
    "    all_years_df.append(temp_df)"
   ]
  },
  {
   "cell_type": "code",
   "execution_count": 10,
   "id": "f55d22fc-2f51-41af-ad8f-dc075dace234",
   "metadata": {},
   "outputs": [],
   "source": [
    "df_final = pd.concat(all_years_df, ignore_index=True)"
   ]
  },
  {
   "cell_type": "code",
   "execution_count": 12,
   "id": "21d3c390-04dd-41a2-89c7-f8e76d228d06",
   "metadata": {},
   "outputs": [],
   "source": [
    "df_final.to_csv(\"sales_cleaned_data.csv\", index=False)"
   ]
  },
  {
   "cell_type": "code",
   "execution_count": null,
   "id": "a60fd2f4-0f79-4a97-9e1c-c99c66d7437c",
   "metadata": {},
   "outputs": [],
   "source": []
  },
  {
   "cell_type": "code",
   "execution_count": null,
   "id": "b9a12551-3165-44ff-a196-c0a7792157b6",
   "metadata": {},
   "outputs": [],
   "source": []
  }
 ],
 "metadata": {
  "kernelspec": {
   "display_name": "Python 3 (ipykernel)",
   "language": "python",
   "name": "python3"
  },
  "language_info": {
   "codemirror_mode": {
    "name": "ipython",
    "version": 3
   },
   "file_extension": ".py",
   "mimetype": "text/x-python",
   "name": "python",
   "nbconvert_exporter": "python",
   "pygments_lexer": "ipython3",
   "version": "3.13.1"
  }
 },
 "nbformat": 4,
 "nbformat_minor": 5
}
